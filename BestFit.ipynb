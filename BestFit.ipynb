{
  "cells": [
    {
      "cell_type": "code",
      "execution_count": null,
      "metadata": {
        "colab": {
          "base_uri": "https://localhost:8080/"
        },
        "id": "WWFk6sxqfIUK",
        "outputId": "2b4086d9-9c40-4093-e3b1-3f20597666ab"
      },
      "outputs": [
        {
          "output_type": "stream",
          "name": "stdout",
          "text": [
            "/content/drive/MyDrive/Flask_model\n"
          ]
        }
      ],
      "source": [
        "cd /content/drive/MyDrive/Flask_model"
      ]
    },
    {
      "cell_type": "code",
      "execution_count": null,
      "metadata": {
        "id": "dXTq3eK-dJxM"
      },
      "outputs": [],
      "source": [
        "import os\n",
        "\n",
        "if not os.path.exists('templates'):\n",
        "  os.makedirs('templates')\n",
        "if not os.path.exists('static'):\n",
        "  os.makedirs('static')"
      ]
    },
    {
      "cell_type": "code",
      "execution_count": null,
      "metadata": {
        "colab": {
          "base_uri": "https://localhost:8080/"
        },
        "id": "5QnWFc93dvYe",
        "outputId": "45081264-6157-49a6-cba8-44eee60436a2"
      },
      "outputs": [
        {
          "output_type": "stream",
          "name": "stdout",
          "text": [
            "Looking in indexes: https://pypi.org/simple, https://us-python.pkg.dev/colab-wheels/public/simple/\n",
            "Collecting pyngrok==4.1.1\n",
            "  Downloading pyngrok-4.1.1.tar.gz (18 kB)\n",
            "  Preparing metadata (setup.py) ... \u001b[?25l\u001b[?25hdone\n",
            "Requirement already satisfied: future in /usr/local/lib/python3.8/dist-packages (from pyngrok==4.1.1) (0.16.0)\n",
            "Requirement already satisfied: PyYAML in /usr/local/lib/python3.8/dist-packages (from pyngrok==4.1.1) (6.0)\n",
            "Building wheels for collected packages: pyngrok\n",
            "  Building wheel for pyngrok (setup.py) ... \u001b[?25l\u001b[?25hdone\n",
            "  Created wheel for pyngrok: filename=pyngrok-4.1.1-py3-none-any.whl size=15982 sha256=2d39a02c73721c780349f38c71765981c3bbfd575bae62c135637ad0392feb06\n",
            "  Stored in directory: /root/.cache/pip/wheels/5e/0a/51/8cb053ccd84481dd3233eba4cdb608bc7a885fd8ca418c0806\n",
            "Successfully built pyngrok\n",
            "Installing collected packages: pyngrok\n",
            "Successfully installed pyngrok-4.1.1\n",
            "Authtoken saved to configuration file: /root/.ngrok2/ngrok.yml\n"
          ]
        }
      ],
      "source": [
        "!pip install pyngrok==4.1.1\n",
        "!ngrok authtoken '2KO3FCQwOe2Zm7VMe8aoAh4NogP_GZ9XTE9K1DqLNjYLZJbt'"
      ]
    },
    {
      "cell_type": "code",
      "execution_count": null,
      "metadata": {
        "colab": {
          "base_uri": "https://localhost:8080/"
        },
        "id": "pW2WDWIReuey",
        "outputId": "33d3defa-50a7-46b6-b8f1-26b4c7949ef0"
      },
      "outputs": [
        {
          "output_type": "stream",
          "name": "stdout",
          "text": [
            "Looking in indexes: https://pypi.org/simple, https://us-python.pkg.dev/colab-wheels/public/simple/\n",
            "Collecting pytube\n",
            "  Downloading pytube-12.1.2-py3-none-any.whl (57 kB)\n",
            "\u001b[2K     \u001b[90m━━━━━━━━━━━━━━━━━━━━━━━━━━━━━━━━━━━━━━━━\u001b[0m \u001b[32m57.0/57.0 KB\u001b[0m \u001b[31m2.6 MB/s\u001b[0m eta \u001b[36m0:00:00\u001b[0m\n",
            "\u001b[?25hInstalling collected packages: pytube\n",
            "Successfully installed pytube-12.1.2\n",
            "  Preparing metadata (setup.py) ... \u001b[?25l\u001b[?25hdone\n",
            "\u001b[2K     \u001b[90m━━━━━━━━━━━━━━━━━━━━━━━━━━━━━━━━━━━━━━━━\u001b[0m \u001b[32m6.3/6.3 MB\u001b[0m \u001b[31m52.7 MB/s\u001b[0m eta \u001b[36m0:00:00\u001b[0m\n",
            "\u001b[2K     \u001b[90m━━━━━━━━━━━━━━━━━━━━━━━━━━━━━━━━━━━━━━━━\u001b[0m \u001b[32m7.6/7.6 MB\u001b[0m \u001b[31m108.3 MB/s\u001b[0m eta \u001b[36m0:00:00\u001b[0m\n",
            "\u001b[2K     \u001b[90m━━━━━━━━━━━━━━━━━━━━━━━━━━━━━━━━━━━━━━\u001b[0m \u001b[32m190.3/190.3 KB\u001b[0m \u001b[31m22.5 MB/s\u001b[0m eta \u001b[36m0:00:00\u001b[0m\n",
            "\u001b[?25h  Building wheel for openai-whisper (setup.py) ... \u001b[?25l\u001b[?25hdone\n",
            "Looking in indexes: https://pypi.org/simple, https://us-python.pkg.dev/colab-wheels/public/simple/\n",
            "Collecting langdetect\n",
            "  Downloading langdetect-1.0.9.tar.gz (981 kB)\n",
            "\u001b[2K     \u001b[90m━━━━━━━━━━━━━━━━━━━━━━━━━━━━━━━━━━━━━━\u001b[0m \u001b[32m981.5/981.5 KB\u001b[0m \u001b[31m16.7 MB/s\u001b[0m eta \u001b[36m0:00:00\u001b[0m\n",
            "\u001b[?25h  Preparing metadata (setup.py) ... \u001b[?25l\u001b[?25hdone\n",
            "Requirement already satisfied: six in /usr/local/lib/python3.8/dist-packages (from langdetect) (1.15.0)\n",
            "Building wheels for collected packages: langdetect\n",
            "  Building wheel for langdetect (setup.py) ... \u001b[?25l\u001b[?25hdone\n",
            "  Created wheel for langdetect: filename=langdetect-1.0.9-py3-none-any.whl size=993242 sha256=edf277dfd7854321e16612383a98cd11f5afce7a20015e7dd8a5ef92fcf47669\n",
            "  Stored in directory: /root/.cache/pip/wheels/13/c7/b0/79f66658626032e78fc1a83103690ef6797d551cb22e56e734\n",
            "Successfully built langdetect\n",
            "Installing collected packages: langdetect\n",
            "Successfully installed langdetect-1.0.9\n",
            "Looking in indexes: https://pypi.org/simple, https://us-python.pkg.dev/colab-wheels/public/simple/\n",
            "Collecting evaluate\n",
            "  Downloading evaluate-0.4.0-py3-none-any.whl (81 kB)\n",
            "\u001b[2K     \u001b[90m━━━━━━━━━━━━━━━━━━━━━━━━━━━━━━━━━━━━━━━━\u001b[0m \u001b[32m81.4/81.4 KB\u001b[0m \u001b[31m3.6 MB/s\u001b[0m eta \u001b[36m0:00:00\u001b[0m\n",
            "\u001b[?25hRequirement already satisfied: huggingface-hub>=0.7.0 in /usr/local/lib/python3.8/dist-packages (from evaluate) (0.12.0)\n",
            "Requirement already satisfied: packaging in /usr/local/lib/python3.8/dist-packages (from evaluate) (21.3)\n",
            "Collecting xxhash\n",
            "  Downloading xxhash-3.2.0-cp38-cp38-manylinux_2_17_x86_64.manylinux2014_x86_64.whl (213 kB)\n",
            "\u001b[2K     \u001b[90m━━━━━━━━━━━━━━━━━━━━━━━━━━━━━━━━━━━━━━━\u001b[0m \u001b[32m213.0/213.0 KB\u001b[0m \u001b[31m9.4 MB/s\u001b[0m eta \u001b[36m0:00:00\u001b[0m\n",
            "\u001b[?25hCollecting responses<0.19\n",
            "  Downloading responses-0.18.0-py3-none-any.whl (38 kB)\n",
            "Requirement already satisfied: pandas in /usr/local/lib/python3.8/dist-packages (from evaluate) (1.3.5)\n",
            "Requirement already satisfied: fsspec[http]>=2021.05.0 in /usr/local/lib/python3.8/dist-packages (from evaluate) (2022.11.0)\n",
            "Requirement already satisfied: numpy>=1.17 in /usr/local/lib/python3.8/dist-packages (from evaluate) (1.21.6)\n",
            "Collecting multiprocess\n",
            "  Downloading multiprocess-0.70.14-py38-none-any.whl (132 kB)\n",
            "\u001b[2K     \u001b[90m━━━━━━━━━━━━━━━━━━━━━━━━━━━━━━━━━━━━━━\u001b[0m \u001b[32m132.0/132.0 KB\u001b[0m \u001b[31m15.8 MB/s\u001b[0m eta \u001b[36m0:00:00\u001b[0m\n",
            "\u001b[?25hRequirement already satisfied: requests>=2.19.0 in /usr/local/lib/python3.8/dist-packages (from evaluate) (2.25.1)\n",
            "Requirement already satisfied: tqdm>=4.62.1 in /usr/local/lib/python3.8/dist-packages (from evaluate) (4.64.1)\n",
            "Collecting datasets>=2.0.0\n",
            "  Downloading datasets-2.9.0-py3-none-any.whl (462 kB)\n",
            "\u001b[2K     \u001b[90m━━━━━━━━━━━━━━━━━━━━━━━━━━━━━━━━━━━━━━\u001b[0m \u001b[32m462.8/462.8 KB\u001b[0m \u001b[31m24.5 MB/s\u001b[0m eta \u001b[36m0:00:00\u001b[0m\n",
            "\u001b[?25hRequirement already satisfied: dill in /usr/local/lib/python3.8/dist-packages (from evaluate) (0.3.6)\n",
            "Requirement already satisfied: pyyaml>=5.1 in /usr/local/lib/python3.8/dist-packages (from datasets>=2.0.0->evaluate) (6.0)\n",
            "Requirement already satisfied: pyarrow>=6.0.0 in /usr/local/lib/python3.8/dist-packages (from datasets>=2.0.0->evaluate) (9.0.0)\n",
            "Requirement already satisfied: aiohttp in /usr/local/lib/python3.8/dist-packages (from datasets>=2.0.0->evaluate) (3.8.3)\n",
            "Requirement already satisfied: filelock in /usr/local/lib/python3.8/dist-packages (from huggingface-hub>=0.7.0->evaluate) (3.9.0)\n",
            "Requirement already satisfied: typing-extensions>=3.7.4.3 in /usr/local/lib/python3.8/dist-packages (from huggingface-hub>=0.7.0->evaluate) (4.4.0)\n",
            "Requirement already satisfied: pyparsing!=3.0.5,>=2.0.2 in /usr/local/lib/python3.8/dist-packages (from packaging->evaluate) (3.0.9)\n",
            "Requirement already satisfied: urllib3<1.27,>=1.21.1 in /usr/local/lib/python3.8/dist-packages (from requests>=2.19.0->evaluate) (1.24.3)\n",
            "Requirement already satisfied: chardet<5,>=3.0.2 in /usr/local/lib/python3.8/dist-packages (from requests>=2.19.0->evaluate) (4.0.0)\n",
            "Requirement already satisfied: idna<3,>=2.5 in /usr/local/lib/python3.8/dist-packages (from requests>=2.19.0->evaluate) (2.10)\n",
            "Requirement already satisfied: certifi>=2017.4.17 in /usr/local/lib/python3.8/dist-packages (from requests>=2.19.0->evaluate) (2022.12.7)\n",
            "Collecting urllib3<1.27,>=1.21.1\n",
            "  Downloading urllib3-1.26.14-py2.py3-none-any.whl (140 kB)\n",
            "\u001b[2K     \u001b[90m━━━━━━━━━━━━━━━━━━━━━━━━━━━━━━━━━━━━━━\u001b[0m \u001b[32m140.6/140.6 KB\u001b[0m \u001b[31m18.3 MB/s\u001b[0m eta \u001b[36m0:00:00\u001b[0m\n",
            "\u001b[?25hRequirement already satisfied: python-dateutil>=2.7.3 in /usr/local/lib/python3.8/dist-packages (from pandas->evaluate) (2.8.2)\n",
            "Requirement already satisfied: pytz>=2017.3 in /usr/local/lib/python3.8/dist-packages (from pandas->evaluate) (2022.7)\n",
            "Requirement already satisfied: attrs>=17.3.0 in /usr/local/lib/python3.8/dist-packages (from aiohttp->datasets>=2.0.0->evaluate) (22.2.0)\n",
            "Requirement already satisfied: charset-normalizer<3.0,>=2.0 in /usr/local/lib/python3.8/dist-packages (from aiohttp->datasets>=2.0.0->evaluate) (2.1.1)\n",
            "Requirement already satisfied: aiosignal>=1.1.2 in /usr/local/lib/python3.8/dist-packages (from aiohttp->datasets>=2.0.0->evaluate) (1.3.1)\n",
            "Requirement already satisfied: frozenlist>=1.1.1 in /usr/local/lib/python3.8/dist-packages (from aiohttp->datasets>=2.0.0->evaluate) (1.3.3)\n",
            "Requirement already satisfied: multidict<7.0,>=4.5 in /usr/local/lib/python3.8/dist-packages (from aiohttp->datasets>=2.0.0->evaluate) (6.0.4)\n",
            "Requirement already satisfied: async-timeout<5.0,>=4.0.0a3 in /usr/local/lib/python3.8/dist-packages (from aiohttp->datasets>=2.0.0->evaluate) (4.0.2)\n",
            "Requirement already satisfied: yarl<2.0,>=1.0 in /usr/local/lib/python3.8/dist-packages (from aiohttp->datasets>=2.0.0->evaluate) (1.8.2)\n",
            "Requirement already satisfied: six>=1.5 in /usr/local/lib/python3.8/dist-packages (from python-dateutil>=2.7.3->pandas->evaluate) (1.15.0)\n",
            "Installing collected packages: xxhash, urllib3, multiprocess, responses, datasets, evaluate\n",
            "  Attempting uninstall: urllib3\n",
            "    Found existing installation: urllib3 1.24.3\n",
            "    Uninstalling urllib3-1.24.3:\n",
            "      Successfully uninstalled urllib3-1.24.3\n",
            "Successfully installed datasets-2.9.0 evaluate-0.4.0 multiprocess-0.70.14 responses-0.18.0 urllib3-1.26.14 xxhash-3.2.0\n",
            "Looking in indexes: https://pypi.org/simple, https://us-python.pkg.dev/colab-wheels/public/simple/\n",
            "Requirement already satisfied: transformers in /usr/local/lib/python3.8/dist-packages (4.26.0)\n",
            "Collecting sentencepiece\n",
            "  Downloading sentencepiece-0.1.97-cp38-cp38-manylinux_2_17_x86_64.manylinux2014_x86_64.whl (1.3 MB)\n",
            "\u001b[2K     \u001b[90m━━━━━━━━━━━━━━━━━━━━━━━━━━━━━━━━━━━━━━━━\u001b[0m \u001b[32m1.3/1.3 MB\u001b[0m \u001b[31m18.9 MB/s\u001b[0m eta \u001b[36m0:00:00\u001b[0m\n",
            "\u001b[?25hRequirement already satisfied: datasets in /usr/local/lib/python3.8/dist-packages (2.9.0)\n",
            "Requirement already satisfied: tokenizers!=0.11.3,<0.14,>=0.11.1 in /usr/local/lib/python3.8/dist-packages (from transformers) (0.13.2)\n",
            "Requirement already satisfied: huggingface-hub<1.0,>=0.11.0 in /usr/local/lib/python3.8/dist-packages (from transformers) (0.12.0)\n",
            "Requirement already satisfied: packaging>=20.0 in /usr/local/lib/python3.8/dist-packages (from transformers) (21.3)\n",
            "Requirement already satisfied: filelock in /usr/local/lib/python3.8/dist-packages (from transformers) (3.9.0)\n",
            "Requirement already satisfied: requests in /usr/local/lib/python3.8/dist-packages (from transformers) (2.25.1)\n",
            "Requirement already satisfied: pyyaml>=5.1 in /usr/local/lib/python3.8/dist-packages (from transformers) (6.0)\n",
            "Requirement already satisfied: tqdm>=4.27 in /usr/local/lib/python3.8/dist-packages (from transformers) (4.64.1)\n",
            "Requirement already satisfied: numpy>=1.17 in /usr/local/lib/python3.8/dist-packages (from transformers) (1.21.6)\n",
            "Requirement already satisfied: regex!=2019.12.17 in /usr/local/lib/python3.8/dist-packages (from transformers) (2022.6.2)\n",
            "Requirement already satisfied: dill<0.3.7 in /usr/local/lib/python3.8/dist-packages (from datasets) (0.3.6)\n",
            "Requirement already satisfied: pandas in /usr/local/lib/python3.8/dist-packages (from datasets) (1.3.5)\n",
            "Requirement already satisfied: multiprocess in /usr/local/lib/python3.8/dist-packages (from datasets) (0.70.14)\n",
            "Requirement already satisfied: aiohttp in /usr/local/lib/python3.8/dist-packages (from datasets) (3.8.3)\n",
            "Requirement already satisfied: pyarrow>=6.0.0 in /usr/local/lib/python3.8/dist-packages (from datasets) (9.0.0)\n",
            "Requirement already satisfied: xxhash in /usr/local/lib/python3.8/dist-packages (from datasets) (3.2.0)\n",
            "Requirement already satisfied: responses<0.19 in /usr/local/lib/python3.8/dist-packages (from datasets) (0.18.0)\n",
            "Requirement already satisfied: fsspec[http]>=2021.11.1 in /usr/local/lib/python3.8/dist-packages (from datasets) (2022.11.0)\n",
            "Requirement already satisfied: aiosignal>=1.1.2 in /usr/local/lib/python3.8/dist-packages (from aiohttp->datasets) (1.3.1)\n",
            "Requirement already satisfied: async-timeout<5.0,>=4.0.0a3 in /usr/local/lib/python3.8/dist-packages (from aiohttp->datasets) (4.0.2)\n",
            "Requirement already satisfied: yarl<2.0,>=1.0 in /usr/local/lib/python3.8/dist-packages (from aiohttp->datasets) (1.8.2)\n",
            "Requirement already satisfied: attrs>=17.3.0 in /usr/local/lib/python3.8/dist-packages (from aiohttp->datasets) (22.2.0)\n",
            "Requirement already satisfied: charset-normalizer<3.0,>=2.0 in /usr/local/lib/python3.8/dist-packages (from aiohttp->datasets) (2.1.1)\n",
            "Requirement already satisfied: frozenlist>=1.1.1 in /usr/local/lib/python3.8/dist-packages (from aiohttp->datasets) (1.3.3)\n",
            "Requirement already satisfied: multidict<7.0,>=4.5 in /usr/local/lib/python3.8/dist-packages (from aiohttp->datasets) (6.0.4)\n",
            "Requirement already satisfied: typing-extensions>=3.7.4.3 in /usr/local/lib/python3.8/dist-packages (from huggingface-hub<1.0,>=0.11.0->transformers) (4.4.0)\n",
            "Requirement already satisfied: pyparsing!=3.0.5,>=2.0.2 in /usr/local/lib/python3.8/dist-packages (from packaging>=20.0->transformers) (3.0.9)\n",
            "Requirement already satisfied: certifi>=2017.4.17 in /usr/local/lib/python3.8/dist-packages (from requests->transformers) (2022.12.7)\n",
            "Requirement already satisfied: chardet<5,>=3.0.2 in /usr/local/lib/python3.8/dist-packages (from requests->transformers) (4.0.0)\n",
            "Requirement already satisfied: urllib3<1.27,>=1.21.1 in /usr/local/lib/python3.8/dist-packages (from requests->transformers) (1.26.14)\n",
            "Requirement already satisfied: idna<3,>=2.5 in /usr/local/lib/python3.8/dist-packages (from requests->transformers) (2.10)\n",
            "Requirement already satisfied: pytz>=2017.3 in /usr/local/lib/python3.8/dist-packages (from pandas->datasets) (2022.7)\n",
            "Requirement already satisfied: python-dateutil>=2.7.3 in /usr/local/lib/python3.8/dist-packages (from pandas->datasets) (2.8.2)\n",
            "Requirement already satisfied: six>=1.5 in /usr/local/lib/python3.8/dist-packages (from python-dateutil>=2.7.3->pandas->datasets) (1.15.0)\n",
            "Installing collected packages: sentencepiece\n",
            "Successfully installed sentencepiece-0.1.97\n",
            "\u001b[0mLooking in indexes: https://pypi.org/simple, https://us-python.pkg.dev/colab-wheels/public/simple/\n",
            "Requirement already satisfied: nltk in /usr/local/lib/python3.8/dist-packages (3.7)\n",
            "Requirement already satisfied: tqdm in /usr/local/lib/python3.8/dist-packages (from nltk) (4.64.1)\n",
            "Requirement already satisfied: regex>=2021.8.3 in /usr/local/lib/python3.8/dist-packages (from nltk) (2022.6.2)\n",
            "Requirement already satisfied: click in /usr/local/lib/python3.8/dist-packages (from nltk) (7.1.2)\n",
            "Requirement already satisfied: joblib in /usr/local/lib/python3.8/dist-packages (from nltk) (1.2.0)\n",
            "Looking in indexes: https://pypi.org/simple, https://us-python.pkg.dev/colab-wheels/public/simple/\n",
            "Collecting flask_ngrok\n",
            "  Downloading flask_ngrok-0.0.25-py3-none-any.whl (3.1 kB)\n",
            "Requirement already satisfied: requests in /usr/local/lib/python3.8/dist-packages (from flask_ngrok) (2.25.1)\n",
            "Requirement already satisfied: Flask>=0.8 in /usr/local/lib/python3.8/dist-packages (from flask_ngrok) (1.1.4)\n",
            "Requirement already satisfied: Werkzeug<2.0,>=0.15 in /usr/local/lib/python3.8/dist-packages (from Flask>=0.8->flask_ngrok) (1.0.1)\n",
            "Requirement already satisfied: Jinja2<3.0,>=2.10.1 in /usr/local/lib/python3.8/dist-packages (from Flask>=0.8->flask_ngrok) (2.11.3)\n",
            "Requirement already satisfied: click<8.0,>=5.1 in /usr/local/lib/python3.8/dist-packages (from Flask>=0.8->flask_ngrok) (7.1.2)\n",
            "Requirement already satisfied: itsdangerous<2.0,>=0.24 in /usr/local/lib/python3.8/dist-packages (from Flask>=0.8->flask_ngrok) (1.1.0)\n",
            "Requirement already satisfied: idna<3,>=2.5 in /usr/local/lib/python3.8/dist-packages (from requests->flask_ngrok) (2.10)\n",
            "Requirement already satisfied: urllib3<1.27,>=1.21.1 in /usr/local/lib/python3.8/dist-packages (from requests->flask_ngrok) (1.26.14)\n",
            "Requirement already satisfied: chardet<5,>=3.0.2 in /usr/local/lib/python3.8/dist-packages (from requests->flask_ngrok) (4.0.0)\n",
            "Requirement already satisfied: certifi>=2017.4.17 in /usr/local/lib/python3.8/dist-packages (from requests->flask_ngrok) (2022.12.7)\n",
            "Requirement already satisfied: MarkupSafe>=0.23 in /usr/local/lib/python3.8/dist-packages (from Jinja2<3.0,>=2.10.1->Flask>=0.8->flask_ngrok) (2.0.1)\n",
            "Installing collected packages: flask_ngrok\n",
            "Successfully installed flask_ngrok-0.0.25\n"
          ]
        }
      ],
      "source": [
        "#Speech Recognition\n",
        "!pip install pytube\n",
        "!pip install git+https://github.com/openai/whisper.git -q\n",
        "!pip install langdetect\n",
        "#Translation, Summarization and Text Generation\n",
        "!pip install evaluate\n",
        "!pip install transformers sentencepiece datasets\n",
        "!pip install rouge_score#No es necesaria\n",
        "!pip install nltk\n",
        "#Deploy\n",
        "!pip install flask_ngrok"
      ]
    },
    {
      "cell_type": "code",
      "execution_count": null,
      "metadata": {
        "id": "IvFo7Kso3ZKu"
      },
      "outputs": [],
      "source": [
        "from flask_ngrok import run_with_ngrok\n",
        "from flask import Flask, render_template, request\n",
        "\n",
        "#Speech Recognition\n",
        "import pytube\n",
        "import whisper\n",
        "#Language Detection\n",
        "from langdetect import detect\n",
        "#Tranformers\n",
        "import torch\n",
        "from transformers import AutoModelForSeq2SeqLM, AutoTokenizer\n",
        "from transformers import pipeline"
      ]
    },
    {
      "cell_type": "code",
      "execution_count": null,
      "metadata": {
        "colab": {
          "base_uri": "https://localhost:8080/"
        },
        "id": "QramYSC3lpa7",
        "outputId": "089d11eb-0195-44c1-ea67-cf884d90b6eb"
      },
      "outputs": [
        {
          "output_type": "stream",
          "name": "stdout",
          "text": [
            " * Serving Flask app \"__main__\" (lazy loading)\n",
            " * Environment: production\n",
            "\u001b[31m   WARNING: This is a development server. Do not use it in a production deployment.\u001b[0m\n",
            "\u001b[2m   Use a production WSGI server instead.\u001b[0m\n",
            " * Debug mode: off\n"
          ]
        },
        {
          "output_type": "stream",
          "name": "stderr",
          "text": [
            "INFO:werkzeug: * Running on http://127.0.0.1:5000/ (Press CTRL+C to quit)\n"
          ]
        },
        {
          "output_type": "stream",
          "name": "stdout",
          "text": [
            " * Running on http://8528-34-139-24-1.ngrok.io\n",
            " * Traffic stats available on http://127.0.0.1:4040\n"
          ]
        },
        {
          "output_type": "stream",
          "name": "stderr",
          "text": [
            "INFO:werkzeug:127.0.0.1 - - [30/Jan/2023 14:55:55] \"\u001b[37mGET / HTTP/1.1\u001b[0m\" 200 -\n",
            "INFO:werkzeug:127.0.0.1 - - [30/Jan/2023 14:55:55] \"\u001b[37mGET /static/style.css HTTP/1.1\u001b[0m\" 200 -\n",
            "INFO:werkzeug:127.0.0.1 - - [30/Jan/2023 14:55:55] \"\u001b[33mGET /favicon.ico HTTP/1.1\u001b[0m\" 404 -\n"
          ]
        },
        {
          "output_type": "stream",
          "name": "stdout",
          "text": [
            "{'text': ' Ha sido el tema que ha acaparado la atención política en Washington, el hallazgo de documentos clasificados en las residencias de la expresidente Donald Trump y el presidente Joe Biden. Un tema que según la encuesta revelada este domingo por NBC, también está en la mira de los estadounidenses. Un 67% de los encuestados dijo sentirse preocupado por los hallazgos, a pesar de la diferencia en cómo respondieron ambos a esta controversia. Al secretario de justicia nombrar un fiscal especial para ambos, Biden y Trump, se crea una falsa equivalencia en la percepción del público. En otro tema, un 55% dice estar preocupado en que la nueva Cámara de Representantes, controlada por los republicanos, pase más tiempo investigando a Biden y no resolviendo otras prioridades. No puede ser simplemente prioridad, investigación en los próximos dos años, ni siquiera dos años, año y largo que queda de este Congreso 118, porque entonces ya la percepción del votante en mi opinión en el 2024 sería diferente y podría pasarle la factura a los republicanos. En cuanto al nivel de aprobación de la gestión del presidente Biden, él mismo se mantiene prácticamente sin cambiar en comparación con encuestas anteriores. Un 50% desaprueba y un 45% aprueba su trabajo, a pesar de victorias legislativas. Mientras un 64% dice que los ingresos de su familia se están quedando atrás en comparación con el costo de vida. Un fin de semana, una quincena, te gastas mil dólares para una familia completa y no compensa el sueldo que uno gana. La encuesta también revela que un 80% apoya a que se apruebe un camino a la ciudadanía para los inmigrantes indocumentados en el país y se aumente la seguridad en la frontera con México. En Washington, Zulema Salazar, Noticias Telemundo.', 'segments': [{'id': 0, 'seek': 0, 'start': 0.0, 'end': 4.44, 'text': ' Ha sido el tema que ha acaparado la atención política en Washington, el hallazgo de documentos', 'tokens': [4064, 14444, 806, 15854, 631, 324, 257, 496, 2181, 1573, 635, 33488, 25029, 465, 6149, 11, 806, 6500, 921, 1571, 368, 4166, 329], 'temperature': 0.0, 'avg_logprob': -0.23571819016913406, 'compression_ratio': 1.5992779783393503, 'no_speech_prob': 0.030616041272878647}, {'id': 1, 'seek': 0, 'start': 4.44, 'end': 9.8, 'text': ' clasificados en las residencias de la expresidente Donald Trump y el presidente Joe Biden.', 'tokens': [596, 296, 1089, 4181, 465, 2439, 725, 4380, 12046, 368, 635, 33397, 40114, 8632, 3899, 288, 806, 23852, 6807, 9877, 13], 'temperature': 0.0, 'avg_logprob': -0.23571819016913406, 'compression_ratio': 1.5992779783393503, 'no_speech_prob': 0.030616041272878647}, {'id': 2, 'seek': 0, 'start': 9.8, 'end': 14.64, 'text': ' Un tema que según la encuesta revelada este domingo por NBC, también está en la mira', 'tokens': [1156, 15854, 631, 36570, 635, 2058, 25316, 15262, 1538, 4065, 3285, 18459, 1515, 31504, 11, 6407, 3192, 465, 635, 30286], 'temperature': 0.0, 'avg_logprob': -0.23571819016913406, 'compression_ratio': 1.5992779783393503, 'no_speech_prob': 0.030616041272878647}, {'id': 3, 'seek': 0, 'start': 14.64, 'end': 16.240000000000002, 'text': ' de los estadounidenses.', 'tokens': [368, 1750, 39160, 1733, 327, 9085, 13], 'temperature': 0.0, 'avg_logprob': -0.23571819016913406, 'compression_ratio': 1.5992779783393503, 'no_speech_prob': 0.030616041272878647}, {'id': 4, 'seek': 0, 'start': 16.240000000000002, 'end': 22.96, 'text': ' Un 67% de los encuestados dijo sentirse preocupado por los hallazgos, a pesar de la diferencia', 'tokens': [1156, 23879, 4, 368, 1750, 2058, 11493, 4181, 27024, 23963, 405, 23080, 1573, 1515, 1750, 6500, 921, 18674, 11, 257, 41951, 368, 635, 38844], 'temperature': 0.0, 'avg_logprob': -0.23571819016913406, 'compression_ratio': 1.5992779783393503, 'no_speech_prob': 0.030616041272878647}, {'id': 5, 'seek': 0, 'start': 22.96, 'end': 25.76, 'text': ' en cómo respondieron ambos a esta controversia.', 'tokens': [465, 12826, 4196, 14440, 41425, 257, 5283, 11542, 654, 13], 'temperature': 0.0, 'avg_logprob': -0.23571819016913406, 'compression_ratio': 1.5992779783393503, 'no_speech_prob': 0.030616041272878647}, {'id': 6, 'seek': 2576, 'start': 25.76, 'end': 30.82, 'text': ' Al secretario de justicia nombrar un fiscal especial para ambos, Biden y Trump, se crea', 'tokens': [967, 4054, 4912, 368, 445, 15341, 5369, 30280, 517, 15897, 15342, 1690, 41425, 11, 9877, 288, 3899, 11, 369, 1197, 64], 'temperature': 0.0, 'avg_logprob': -0.23335858937856313, 'compression_ratio': 1.5357142857142858, 'no_speech_prob': 0.06520920991897583}, {'id': 7, 'seek': 2576, 'start': 30.82, 'end': 33.56, 'text': ' una falsa equivalencia en la percepción del público.', 'tokens': [2002, 16720, 64, 9052, 10974, 465, 635, 9016, 39859, 1103, 26557, 13], 'temperature': 0.0, 'avg_logprob': -0.23335858937856313, 'compression_ratio': 1.5357142857142858, 'no_speech_prob': 0.06520920991897583}, {'id': 8, 'seek': 2576, 'start': 33.56, 'end': 39.84, 'text': ' En otro tema, un 55% dice estar preocupado en que la nueva Cámara de Representantes,', 'tokens': [2193, 11921, 15854, 11, 517, 12330, 4, 10313, 8755, 23080, 1573, 465, 631, 635, 28963, 383, 19524, 2419, 368, 19945, 9327, 11], 'temperature': 0.0, 'avg_logprob': -0.23335858937856313, 'compression_ratio': 1.5357142857142858, 'no_speech_prob': 0.06520920991897583}, {'id': 9, 'seek': 2576, 'start': 39.84, 'end': 44.160000000000004, 'text': ' controlada por los republicanos, pase más tiempo investigando a Biden y no resolviendo', 'tokens': [1969, 1538, 1515, 1750, 18535, 31035, 11, 47125, 3573, 11772, 4557, 1806, 257, 9877, 288, 572, 7923, 85, 7304], 'temperature': 0.0, 'avg_logprob': -0.23335858937856313, 'compression_ratio': 1.5357142857142858, 'no_speech_prob': 0.06520920991897583}, {'id': 10, 'seek': 2576, 'start': 44.160000000000004, 'end': 45.44, 'text': ' otras prioridades.', 'tokens': [20244, 4059, 10284, 13], 'temperature': 0.0, 'avg_logprob': -0.23335858937856313, 'compression_ratio': 1.5357142857142858, 'no_speech_prob': 0.06520920991897583}, {'id': 11, 'seek': 2576, 'start': 45.44, 'end': 50.0, 'text': ' No puede ser simplemente prioridad, investigación en los próximos dos años, ni siquiera dos', 'tokens': [883, 8919, 816, 33190, 4059, 4580, 11, 48919, 465, 1750, 12389, 329, 4491, 11424, 11, 3867, 1511, 35134, 4491], 'temperature': 0.0, 'avg_logprob': -0.23335858937856313, 'compression_ratio': 1.5357142857142858, 'no_speech_prob': 0.06520920991897583}, {'id': 12, 'seek': 5000, 'start': 50.0, 'end': 56.92, 'text': ' años, año y largo que queda de este Congreso 118, porque entonces ya la percepción del', 'tokens': [11424, 11, 15984, 288, 31245, 631, 23314, 368, 4065, 4280, 38021, 2975, 23, 11, 4021, 13003, 2478, 635, 9016, 39859, 1103], 'temperature': 0.0, 'avg_logprob': -0.21820949685984645, 'compression_ratio': 1.5087108013937283, 'no_speech_prob': 9.164391667582095e-05}, {'id': 13, 'seek': 5000, 'start': 56.92, 'end': 62.44, 'text': ' votante en mi opinión en el 2024 sería diferente y podría pasarle la factura a los republicanos.', 'tokens': [3478, 2879, 465, 2752, 3980, 2560, 465, 806, 45237, 23679, 20973, 288, 27246, 25344, 306, 635, 1186, 2991, 257, 1750, 18535, 31035, 13], 'temperature': 0.0, 'avg_logprob': -0.21820949685984645, 'compression_ratio': 1.5087108013937283, 'no_speech_prob': 9.164391667582095e-05}, {'id': 14, 'seek': 5000, 'start': 62.44, 'end': 66.42, 'text': ' En cuanto al nivel de aprobación de la gestión del presidente Biden, él mismo se mantiene', 'tokens': [2193, 36685, 419, 24423, 368, 14602, 65, 3482, 368, 635, 7219, 2560, 1103, 23852, 9877, 11, 11810, 12461, 369, 10845, 10174], 'temperature': 0.0, 'avg_logprob': -0.21820949685984645, 'compression_ratio': 1.5087108013937283, 'no_speech_prob': 9.164391667582095e-05}, {'id': 15, 'seek': 5000, 'start': 66.42, 'end': 70.28, 'text': ' prácticamente sin cambiar en comparación con encuestas anteriores.', 'tokens': [27300, 50250, 3343, 37738, 465, 6311, 3482, 416, 2058, 47794, 364, 34345, 2706, 13], 'temperature': 0.0, 'avg_logprob': -0.21820949685984645, 'compression_ratio': 1.5087108013937283, 'no_speech_prob': 9.164391667582095e-05}, {'id': 16, 'seek': 5000, 'start': 70.28, 'end': 76.8, 'text': ' Un 50% desaprueba y un 45% aprueba su trabajo, a pesar de victorias legislativas.', 'tokens': [1156, 2625, 4, 36546, 41729, 4231, 288, 517, 6905, 4, 10992, 622, 4231, 459, 18099, 11, 257, 41951, 368, 4403, 284, 4609, 6593, 35725, 13], 'temperature': 0.0, 'avg_logprob': -0.21820949685984645, 'compression_ratio': 1.5087108013937283, 'no_speech_prob': 9.164391667582095e-05}, {'id': 17, 'seek': 7680, 'start': 76.8, 'end': 83.32, 'text': ' Mientras un 64% dice que los ingresos de su familia se están quedando atrás en comparación', 'tokens': [376, 22148, 517, 12145, 4, 10313, 631, 1750, 3957, 495, 329, 368, 459, 24050, 369, 10368, 13617, 1806, 22906, 465, 6311, 3482], 'temperature': 0.0, 'avg_logprob': -0.20363320975468077, 'compression_ratio': 1.5404530744336569, 'no_speech_prob': 1.129808424593648e-05}, {'id': 18, 'seek': 7680, 'start': 83.32, 'end': 84.75999999999999, 'text': ' con el costo de vida.', 'tokens': [416, 806, 2063, 78, 368, 7644, 13], 'temperature': 0.0, 'avg_logprob': -0.20363320975468077, 'compression_ratio': 1.5404530744336569, 'no_speech_prob': 1.129808424593648e-05}, {'id': 19, 'seek': 7680, 'start': 84.75999999999999, 'end': 89.96, 'text': ' Un fin de semana, una quincena, te gastas mil dólares para una familia completa y no', 'tokens': [1156, 962, 368, 20205, 11, 2002, 421, 4647, 4118, 11, 535, 17898, 296, 1962, 32596, 1690, 2002, 24050, 46822, 288, 572], 'temperature': 0.0, 'avg_logprob': -0.20363320975468077, 'compression_ratio': 1.5404530744336569, 'no_speech_prob': 1.129808424593648e-05}, {'id': 20, 'seek': 7680, 'start': 89.96, 'end': 91.88, 'text': ' compensa el sueldo que uno gana.', 'tokens': [11598, 64, 806, 459, 338, 2595, 631, 8526, 290, 2095, 13], 'temperature': 0.0, 'avg_logprob': -0.20363320975468077, 'compression_ratio': 1.5404530744336569, 'no_speech_prob': 1.129808424593648e-05}, {'id': 21, 'seek': 7680, 'start': 91.88, 'end': 96.72, 'text': ' La encuesta también revela que un 80% apoya a que se apruebe un camino a la ciudadanía', 'tokens': [2369, 2058, 25316, 6407, 15262, 64, 631, 517, 4688, 4, 1882, 24642, 257, 631, 369, 10992, 622, 650, 517, 34124, 257, 635, 18186, 11338, 2686], 'temperature': 0.0, 'avg_logprob': -0.20363320975468077, 'compression_ratio': 1.5404530744336569, 'no_speech_prob': 1.129808424593648e-05}, {'id': 22, 'seek': 7680, 'start': 96.72, 'end': 102.0, 'text': ' para los inmigrantes indocumentados en el país y se aumente la seguridad en la frontera', 'tokens': [1690, 1750, 41052, 328, 7541, 279, 1016, 30439, 4181, 465, 806, 10572, 288, 369, 257, 449, 1576, 635, 35415, 465, 635, 431, 266, 23833], 'temperature': 0.0, 'avg_logprob': -0.20363320975468077, 'compression_ratio': 1.5404530744336569, 'no_speech_prob': 1.129808424593648e-05}, {'id': 23, 'seek': 7680, 'start': 102.0, 'end': 103.0, 'text': ' con México.', 'tokens': [416, 28128, 13], 'temperature': 0.0, 'avg_logprob': -0.20363320975468077, 'compression_ratio': 1.5404530744336569, 'no_speech_prob': 1.129808424593648e-05}, {'id': 24, 'seek': 10300, 'start': 103.0, 'end': 106.8, 'text': ' En Washington, Zulema Salazar, Noticias Telemundo.', 'tokens': [50364, 2193, 6149, 11, 1176, 2271, 1696, 5996, 22795, 11, 1726, 48042, 1989, 10386, 6043, 13, 50554], 'temperature': 0.0, 'avg_logprob': -0.26988628175523544, 'compression_ratio': 0.8771929824561403, 'no_speech_prob': 9.656845577410422e-06}], 'language': 'es'}\n",
            "Ha sido el tema que ha acaparado la atención política en Washington, el hallazgo de documentos clasificados en las residencias de la expresidente Donald Trump y el presidente Joe Biden. Un tema que según la encuesta revelada este domingo por NBC, también está en la mira de los estadounidenses. Un 67% de los encuestados dijo sentirse preocupado por los hallazgos, a pesar de la diferencia en cómo respondieron ambos a esta controversia. Al secretario de justicia nombrar un fiscal especial para ambos, Biden y Trump, se crea una falsa equivalencia en la percepción del público. En otro tema, un 55% dice estar preocupado en que la nueva Cámara de Representantes, controlada por los republicanos, pase más tiempo investigando a Biden y no resolviendo otras prioridades. No puede ser simplemente prioridad, investigación en los próximos dos años, ni siquiera dos años, año y largo que queda de este Congreso 118, porque entonces ya la percepción del votante en mi opinión en el 2024 sería diferente y podría pasarle la factura a los republicanos. En cuanto al nivel de aprobación de la gestión del presidente Biden, él mismo se mantiene prácticamente sin cambiar en comparación con encuestas anteriores. Un 50% desaprueba y un 45% aprueba su trabajo, a pesar de victorias legislativas. Mientras un 64% dice que los ingresos de su familia se están quedando atrás en comparación con el costo de vida. Un fin de semana, una quincena, te gastas mil dólares para una familia completa y no compensa el sueldo que uno gana. La encuesta también revela que un 80% apoya a que se apruebe un camino a la ciudadanía para los inmigrantes indocumentados en el país y se aumente la seguridad en la frontera con México. En Washington, Zulema Salazar, Noticias Telemundo.\n",
            "es\n",
            "es\n"
          ]
        },
        {
          "output_type": "stream",
          "name": "stderr",
          "text": [
            "/usr/local/lib/python3.8/dist-packages/transformers/convert_slow_tokenizer.py:446: UserWarning: The sentencepiece tokenizer that you are converting to a fast tokenizer uses the byte fallback option which is not implemented in the fast tokenizers. In practice this means that the fast version of the tokenizer can produce unknown tokens whereas the sentencepiece version would have converted these unknown tokens into a sequence of byte tokens matching the original piece of text.\n",
            "  warnings.warn(\n"
          ]
        },
        {
          "output_type": "stream",
          "name": "stdout",
          "text": [
            "True\n",
            "[{'summary_text': 'La atención política en Estados Unidos está en la mira de los estadounidenses.'}]\n",
            "<en> La atención política en Estados Unidos está en la mira de los estadounidenses.\n",
            "tensor([[  1042,    278,    669,   2470,    259,    262,  20230,  11982,    289,\n",
            "            259,  16710,  16854,   1957,    289,    283,  18355,    269,    595,\n",
            "           9136, 209497,  47938,    260,      1,      0,      0,      0,      0,\n",
            "              0,      0,      0,      0,      0,      0,      0,      0,      0,\n",
            "              0,      0,      0,      0]])\n"
          ]
        },
        {
          "output_type": "stream",
          "name": "stderr",
          "text": [
            "/usr/local/lib/python3.8/dist-packages/transformers/generation/utils.py:1273: UserWarning: Neither `max_length` nor `max_new_tokens` has been set, `max_length` will default to 40 (`generation_config.max_length`). Controlling `max_length` via the config is deprecated and `max_length` will be removed from the config in v5 of Transformers -- we recommend using `max_new_tokens` to control the maximum length of the generation.\n",
            "  warnings.warn(\n",
            "INFO:werkzeug:127.0.0.1 - - [30/Jan/2023 14:58:04] \"\u001b[37mPOST / HTTP/1.1\u001b[0m\" 200 -\n"
          ]
        },
        {
          "output_type": "stream",
          "name": "stdout",
          "text": [
            "\"The political attention in America is in the sights of the Americans.\n",
            "{'text': ' Ha sido el tema que ha acaparado la atención política en Washington, el hallazgo de documentos clasificados en las residencias de la expresidente Donald Trump y el presidente Joe Biden. Un tema que según la encuesta revelada este domingo por NBC, también está en la mira de los estadounidenses. Un 67% de los encuestados dijo sentirse preocupado por los hallazgos, a pesar de la diferencia en cómo respondieron ambos a esta controversia. Al secretario de justicia nombrar un fiscal especial para ambos, Biden y Trump, se crea una falsa equivalencia en la percepción del público. En otro tema, un 55% dice estar preocupado en que la nueva Cámara de Representantes, controlada por los republicanos, pase más tiempo investigando a Biden y no resolviendo otras prioridades. No puede ser simplemente prioridad, investigación en los próximos dos años, ni siquiera dos años, año y largo que queda de este Congreso 118, porque entonces ya la percepción del votante en mi opinión en el 2024 sería diferente y podría pasarle la factura a los republicanos. En cuanto al nivel de aprobación de la gestión del presidente Biden, él mismo se mantiene prácticamente sin cambiar en comparación con encuestas anteriores. Un 50% desaprueba y un 45% aprueba su trabajo, a pesar de victorias legislativas. Mientras un 64% dice que los ingresos de su familia se están quedando atrás en comparación con el costo de vida. Un fin de semana, una quincena, te gastas mil dólares para una familia completa y no compensa el sueldo que uno gana. La encuesta también revela que un 80% apoya a que se apruebe un camino a la ciudadanía para los inmigrantes indocumentados en el país y se aumente la seguridad en la frontera con México. En Washington, Zulema Salazar, Noticias Telemundo.', 'segments': [{'id': 0, 'seek': 0, 'start': 0.0, 'end': 4.44, 'text': ' Ha sido el tema que ha acaparado la atención política en Washington, el hallazgo de documentos', 'tokens': [4064, 14444, 806, 15854, 631, 324, 257, 496, 2181, 1573, 635, 33488, 25029, 465, 6149, 11, 806, 6500, 921, 1571, 368, 4166, 329], 'temperature': 0.0, 'avg_logprob': -0.23571819016913406, 'compression_ratio': 1.5992779783393503, 'no_speech_prob': 0.030616041272878647}, {'id': 1, 'seek': 0, 'start': 4.44, 'end': 9.8, 'text': ' clasificados en las residencias de la expresidente Donald Trump y el presidente Joe Biden.', 'tokens': [596, 296, 1089, 4181, 465, 2439, 725, 4380, 12046, 368, 635, 33397, 40114, 8632, 3899, 288, 806, 23852, 6807, 9877, 13], 'temperature': 0.0, 'avg_logprob': -0.23571819016913406, 'compression_ratio': 1.5992779783393503, 'no_speech_prob': 0.030616041272878647}, {'id': 2, 'seek': 0, 'start': 9.8, 'end': 14.64, 'text': ' Un tema que según la encuesta revelada este domingo por NBC, también está en la mira', 'tokens': [1156, 15854, 631, 36570, 635, 2058, 25316, 15262, 1538, 4065, 3285, 18459, 1515, 31504, 11, 6407, 3192, 465, 635, 30286], 'temperature': 0.0, 'avg_logprob': -0.23571819016913406, 'compression_ratio': 1.5992779783393503, 'no_speech_prob': 0.030616041272878647}, {'id': 3, 'seek': 0, 'start': 14.64, 'end': 16.240000000000002, 'text': ' de los estadounidenses.', 'tokens': [368, 1750, 39160, 1733, 327, 9085, 13], 'temperature': 0.0, 'avg_logprob': -0.23571819016913406, 'compression_ratio': 1.5992779783393503, 'no_speech_prob': 0.030616041272878647}, {'id': 4, 'seek': 0, 'start': 16.240000000000002, 'end': 22.96, 'text': ' Un 67% de los encuestados dijo sentirse preocupado por los hallazgos, a pesar de la diferencia', 'tokens': [1156, 23879, 4, 368, 1750, 2058, 11493, 4181, 27024, 23963, 405, 23080, 1573, 1515, 1750, 6500, 921, 18674, 11, 257, 41951, 368, 635, 38844], 'temperature': 0.0, 'avg_logprob': -0.23571819016913406, 'compression_ratio': 1.5992779783393503, 'no_speech_prob': 0.030616041272878647}, {'id': 5, 'seek': 0, 'start': 22.96, 'end': 25.76, 'text': ' en cómo respondieron ambos a esta controversia.', 'tokens': [465, 12826, 4196, 14440, 41425, 257, 5283, 11542, 654, 13], 'temperature': 0.0, 'avg_logprob': -0.23571819016913406, 'compression_ratio': 1.5992779783393503, 'no_speech_prob': 0.030616041272878647}, {'id': 6, 'seek': 2576, 'start': 25.76, 'end': 30.82, 'text': ' Al secretario de justicia nombrar un fiscal especial para ambos, Biden y Trump, se crea', 'tokens': [967, 4054, 4912, 368, 445, 15341, 5369, 30280, 517, 15897, 15342, 1690, 41425, 11, 9877, 288, 3899, 11, 369, 1197, 64], 'temperature': 0.0, 'avg_logprob': -0.23335858937856313, 'compression_ratio': 1.5357142857142858, 'no_speech_prob': 0.06520920991897583}, {'id': 7, 'seek': 2576, 'start': 30.82, 'end': 33.56, 'text': ' una falsa equivalencia en la percepción del público.', 'tokens': [2002, 16720, 64, 9052, 10974, 465, 635, 9016, 39859, 1103, 26557, 13], 'temperature': 0.0, 'avg_logprob': -0.23335858937856313, 'compression_ratio': 1.5357142857142858, 'no_speech_prob': 0.06520920991897583}, {'id': 8, 'seek': 2576, 'start': 33.56, 'end': 39.84, 'text': ' En otro tema, un 55% dice estar preocupado en que la nueva Cámara de Representantes,', 'tokens': [2193, 11921, 15854, 11, 517, 12330, 4, 10313, 8755, 23080, 1573, 465, 631, 635, 28963, 383, 19524, 2419, 368, 19945, 9327, 11], 'temperature': 0.0, 'avg_logprob': -0.23335858937856313, 'compression_ratio': 1.5357142857142858, 'no_speech_prob': 0.06520920991897583}, {'id': 9, 'seek': 2576, 'start': 39.84, 'end': 44.160000000000004, 'text': ' controlada por los republicanos, pase más tiempo investigando a Biden y no resolviendo', 'tokens': [1969, 1538, 1515, 1750, 18535, 31035, 11, 47125, 3573, 11772, 4557, 1806, 257, 9877, 288, 572, 7923, 85, 7304], 'temperature': 0.0, 'avg_logprob': -0.23335858937856313, 'compression_ratio': 1.5357142857142858, 'no_speech_prob': 0.06520920991897583}, {'id': 10, 'seek': 2576, 'start': 44.160000000000004, 'end': 45.44, 'text': ' otras prioridades.', 'tokens': [20244, 4059, 10284, 13], 'temperature': 0.0, 'avg_logprob': -0.23335858937856313, 'compression_ratio': 1.5357142857142858, 'no_speech_prob': 0.06520920991897583}, {'id': 11, 'seek': 2576, 'start': 45.44, 'end': 50.0, 'text': ' No puede ser simplemente prioridad, investigación en los próximos dos años, ni siquiera dos', 'tokens': [883, 8919, 816, 33190, 4059, 4580, 11, 48919, 465, 1750, 12389, 329, 4491, 11424, 11, 3867, 1511, 35134, 4491], 'temperature': 0.0, 'avg_logprob': -0.23335858937856313, 'compression_ratio': 1.5357142857142858, 'no_speech_prob': 0.06520920991897583}, {'id': 12, 'seek': 5000, 'start': 50.0, 'end': 56.92, 'text': ' años, año y largo que queda de este Congreso 118, porque entonces ya la percepción del', 'tokens': [11424, 11, 15984, 288, 31245, 631, 23314, 368, 4065, 4280, 38021, 2975, 23, 11, 4021, 13003, 2478, 635, 9016, 39859, 1103], 'temperature': 0.0, 'avg_logprob': -0.21820949685984645, 'compression_ratio': 1.5087108013937283, 'no_speech_prob': 9.164391667582095e-05}, {'id': 13, 'seek': 5000, 'start': 56.92, 'end': 62.44, 'text': ' votante en mi opinión en el 2024 sería diferente y podría pasarle la factura a los republicanos.', 'tokens': [3478, 2879, 465, 2752, 3980, 2560, 465, 806, 45237, 23679, 20973, 288, 27246, 25344, 306, 635, 1186, 2991, 257, 1750, 18535, 31035, 13], 'temperature': 0.0, 'avg_logprob': -0.21820949685984645, 'compression_ratio': 1.5087108013937283, 'no_speech_prob': 9.164391667582095e-05}, {'id': 14, 'seek': 5000, 'start': 62.44, 'end': 66.42, 'text': ' En cuanto al nivel de aprobación de la gestión del presidente Biden, él mismo se mantiene', 'tokens': [2193, 36685, 419, 24423, 368, 14602, 65, 3482, 368, 635, 7219, 2560, 1103, 23852, 9877, 11, 11810, 12461, 369, 10845, 10174], 'temperature': 0.0, 'avg_logprob': -0.21820949685984645, 'compression_ratio': 1.5087108013937283, 'no_speech_prob': 9.164391667582095e-05}, {'id': 15, 'seek': 5000, 'start': 66.42, 'end': 70.28, 'text': ' prácticamente sin cambiar en comparación con encuestas anteriores.', 'tokens': [27300, 50250, 3343, 37738, 465, 6311, 3482, 416, 2058, 47794, 364, 34345, 2706, 13], 'temperature': 0.0, 'avg_logprob': -0.21820949685984645, 'compression_ratio': 1.5087108013937283, 'no_speech_prob': 9.164391667582095e-05}, {'id': 16, 'seek': 5000, 'start': 70.28, 'end': 76.8, 'text': ' Un 50% desaprueba y un 45% aprueba su trabajo, a pesar de victorias legislativas.', 'tokens': [1156, 2625, 4, 36546, 41729, 4231, 288, 517, 6905, 4, 10992, 622, 4231, 459, 18099, 11, 257, 41951, 368, 4403, 284, 4609, 6593, 35725, 13], 'temperature': 0.0, 'avg_logprob': -0.21820949685984645, 'compression_ratio': 1.5087108013937283, 'no_speech_prob': 9.164391667582095e-05}, {'id': 17, 'seek': 7680, 'start': 76.8, 'end': 83.32, 'text': ' Mientras un 64% dice que los ingresos de su familia se están quedando atrás en comparación', 'tokens': [376, 22148, 517, 12145, 4, 10313, 631, 1750, 3957, 495, 329, 368, 459, 24050, 369, 10368, 13617, 1806, 22906, 465, 6311, 3482], 'temperature': 0.0, 'avg_logprob': -0.20363320975468077, 'compression_ratio': 1.5404530744336569, 'no_speech_prob': 1.129808424593648e-05}, {'id': 18, 'seek': 7680, 'start': 83.32, 'end': 84.75999999999999, 'text': ' con el costo de vida.', 'tokens': [416, 806, 2063, 78, 368, 7644, 13], 'temperature': 0.0, 'avg_logprob': -0.20363320975468077, 'compression_ratio': 1.5404530744336569, 'no_speech_prob': 1.129808424593648e-05}, {'id': 19, 'seek': 7680, 'start': 84.75999999999999, 'end': 89.96, 'text': ' Un fin de semana, una quincena, te gastas mil dólares para una familia completa y no', 'tokens': [1156, 962, 368, 20205, 11, 2002, 421, 4647, 4118, 11, 535, 17898, 296, 1962, 32596, 1690, 2002, 24050, 46822, 288, 572], 'temperature': 0.0, 'avg_logprob': -0.20363320975468077, 'compression_ratio': 1.5404530744336569, 'no_speech_prob': 1.129808424593648e-05}, {'id': 20, 'seek': 7680, 'start': 89.96, 'end': 91.88, 'text': ' compensa el sueldo que uno gana.', 'tokens': [11598, 64, 806, 459, 338, 2595, 631, 8526, 290, 2095, 13], 'temperature': 0.0, 'avg_logprob': -0.20363320975468077, 'compression_ratio': 1.5404530744336569, 'no_speech_prob': 1.129808424593648e-05}, {'id': 21, 'seek': 7680, 'start': 91.88, 'end': 96.72, 'text': ' La encuesta también revela que un 80% apoya a que se apruebe un camino a la ciudadanía', 'tokens': [2369, 2058, 25316, 6407, 15262, 64, 631, 517, 4688, 4, 1882, 24642, 257, 631, 369, 10992, 622, 650, 517, 34124, 257, 635, 18186, 11338, 2686], 'temperature': 0.0, 'avg_logprob': -0.20363320975468077, 'compression_ratio': 1.5404530744336569, 'no_speech_prob': 1.129808424593648e-05}, {'id': 22, 'seek': 7680, 'start': 96.72, 'end': 102.0, 'text': ' para los inmigrantes indocumentados en el país y se aumente la seguridad en la frontera', 'tokens': [1690, 1750, 41052, 328, 7541, 279, 1016, 30439, 4181, 465, 806, 10572, 288, 369, 257, 449, 1576, 635, 35415, 465, 635, 431, 266, 23833], 'temperature': 0.0, 'avg_logprob': -0.20363320975468077, 'compression_ratio': 1.5404530744336569, 'no_speech_prob': 1.129808424593648e-05}, {'id': 23, 'seek': 7680, 'start': 102.0, 'end': 103.0, 'text': ' con México.', 'tokens': [416, 28128, 13], 'temperature': 0.0, 'avg_logprob': -0.20363320975468077, 'compression_ratio': 1.5404530744336569, 'no_speech_prob': 1.129808424593648e-05}, {'id': 24, 'seek': 10300, 'start': 103.0, 'end': 106.8, 'text': ' En Washington, Zulema Salazar, Noticias Telemundo.', 'tokens': [50364, 2193, 6149, 11, 1176, 2271, 1696, 5996, 22795, 11, 1726, 48042, 1989, 10386, 6043, 13, 50554], 'temperature': 0.0, 'avg_logprob': -0.26988628175523544, 'compression_ratio': 0.8771929824561403, 'no_speech_prob': 9.656845577410422e-06}], 'language': 'es'}\n",
            "Ha sido el tema que ha acaparado la atención política en Washington, el hallazgo de documentos clasificados en las residencias de la expresidente Donald Trump y el presidente Joe Biden. Un tema que según la encuesta revelada este domingo por NBC, también está en la mira de los estadounidenses. Un 67% de los encuestados dijo sentirse preocupado por los hallazgos, a pesar de la diferencia en cómo respondieron ambos a esta controversia. Al secretario de justicia nombrar un fiscal especial para ambos, Biden y Trump, se crea una falsa equivalencia en la percepción del público. En otro tema, un 55% dice estar preocupado en que la nueva Cámara de Representantes, controlada por los republicanos, pase más tiempo investigando a Biden y no resolviendo otras prioridades. No puede ser simplemente prioridad, investigación en los próximos dos años, ni siquiera dos años, año y largo que queda de este Congreso 118, porque entonces ya la percepción del votante en mi opinión en el 2024 sería diferente y podría pasarle la factura a los republicanos. En cuanto al nivel de aprobación de la gestión del presidente Biden, él mismo se mantiene prácticamente sin cambiar en comparación con encuestas anteriores. Un 50% desaprueba y un 45% aprueba su trabajo, a pesar de victorias legislativas. Mientras un 64% dice que los ingresos de su familia se están quedando atrás en comparación con el costo de vida. Un fin de semana, una quincena, te gastas mil dólares para una familia completa y no compensa el sueldo que uno gana. La encuesta también revela que un 80% apoya a que se apruebe un camino a la ciudadanía para los inmigrantes indocumentados en el país y se aumente la seguridad en la frontera con México. En Washington, Zulema Salazar, Noticias Telemundo.\n",
            "es\n",
            "es\n"
          ]
        },
        {
          "output_type": "stream",
          "name": "stderr",
          "text": [
            "/usr/local/lib/python3.8/dist-packages/transformers/convert_slow_tokenizer.py:446: UserWarning: The sentencepiece tokenizer that you are converting to a fast tokenizer uses the byte fallback option which is not implemented in the fast tokenizers. In practice this means that the fast version of the tokenizer can produce unknown tokens whereas the sentencepiece version would have converted these unknown tokens into a sequence of byte tokens matching the original piece of text.\n",
            "  warnings.warn(\n"
          ]
        },
        {
          "output_type": "stream",
          "name": "stdout",
          "text": [
            "True\n",
            "[{'summary_text': 'La atención política en Estados Unidos está en la mira de los estadounidenses.'}]\n",
            "<en> La atención política en Estados Unidos está en la mira de los estadounidenses.\n",
            "tensor([[  1042,    278,    669,   2470,    259,    262,  20230,  11982,    289,\n",
            "            259,  16710,  16854,   1957,    289,    283,  18355,    269,    595,\n",
            "           9136, 209497,  47938,    260,      1,      0,      0,      0,      0,\n",
            "              0,      0,      0,      0,      0,      0,      0,      0,      0,\n",
            "              0,      0,      0,      0]])\n"
          ]
        },
        {
          "output_type": "stream",
          "name": "stderr",
          "text": [
            "/usr/local/lib/python3.8/dist-packages/transformers/generation/utils.py:1273: UserWarning: Neither `max_length` nor `max_new_tokens` has been set, `max_length` will default to 40 (`generation_config.max_length`). Controlling `max_length` via the config is deprecated and `max_length` will be removed from the config in v5 of Transformers -- we recommend using `max_new_tokens` to control the maximum length of the generation.\n",
            "  warnings.warn(\n",
            "INFO:werkzeug:127.0.0.1 - - [30/Jan/2023 15:01:22] \"\u001b[37mPOST / HTTP/1.1\u001b[0m\" 200 -\n"
          ]
        },
        {
          "output_type": "stream",
          "name": "stdout",
          "text": [
            "\"The political attention in America is in the sights of the Americans.\n"
          ]
        }
      ],
      "source": [
        "app = Flask(__name__)\n",
        "run_with_ngrok(app)\n",
        "\n",
        "def get_audio(url):\n",
        "    data = pytube.YouTube(url)\n",
        "    # Converting and downloading as 'MP4' file\n",
        "    audio = data.streams.get_audio_only()\n",
        "    path = audio.download()#Get file from return of the method\n",
        "    #Get Lyrics\n",
        "    model = whisper.load_model('large')#large\n",
        "    text = model.transcribe(path)\n",
        "    print(text)\n",
        "    text_output = text['text'].replace('♪','').strip()\n",
        "    print(text_output)\n",
        "    return text_output\n",
        "\n",
        "activate_translation = False\n",
        "#device = torch.device(\"cuda\" if torch.cuda.is_available() else \"cpu\")\n",
        "model_repo = 't5-base'\n",
        "LANG_TOKEN_MAPPING = {\n",
        "    'en': '<en>',\n",
        "    'es': '<es>'\n",
        "}\n",
        "model_trans = 'google/mt5-small'\n",
        "tokenizer = AutoTokenizer.from_pretrained(model_trans)\n",
        "model_t = AutoModelForSeq2SeqLM.from_pretrained('/content/drive/MyDrive/translation')\n",
        "#model_t = model_t.cuda()\n",
        "\n",
        "\n",
        "\n",
        "def language_dectection(text_output):\n",
        "    global activate_translation\n",
        "    detection = detect(text_output)\n",
        "    print(detection)#Debug\n",
        "    if detection != 'en':\n",
        "        activate_translation = True\n",
        "    else:\n",
        "        activate_translation = False\n",
        "    return detection\n",
        "\n",
        "\n",
        "def summarization(text_output):\n",
        "    # load local model\n",
        "    if activate_translation == True and language_dectection(text_output) == 'es':\n",
        "        model = (AutoModelForSeq2SeqLM\n",
        "         .from_pretrained(\"/content/drive/MyDrive/Flask_model/trained_for_summarization_es\")\n",
        "         )\n",
        "        seq2seq = pipeline(\"summarization\", model=model, tokenizer='google/mt5-base')\n",
        "        result = seq2seq(text_output, min_length=20, max_length=100)\n",
        "        return result\n",
        "\n",
        "    else:\n",
        "        summarizer = pipeline(\"summarization\", model=model_repo, tokenizer=model_repo, framework=\"tf\")\n",
        "        summary_text = summarizer(text_output, max_length=100, min_length=5, do_sample=False)[0]['summary_text']\n",
        "        return summary_text\n",
        "\n",
        "\n",
        "\n",
        "def encode_str(text, tokenizer, seq_len):  \n",
        "#Tokenize,pad to max length and encode to ids Returns tensor with tocken ids\n",
        "  input_ids = tokenizer.encode(\n",
        "  text=text,\n",
        "  return_tensors = 'pt',\n",
        "  padding = 'max_length',\n",
        "  truncation = True,\n",
        "  max_length = seq_len)\n",
        "  return input_ids[0]\n",
        "\n",
        "def translation(summary):\n",
        "    input_text = summary\n",
        "    language = '<en>'\n",
        "    print(language,input_text)\n",
        "    input_ids = encode_str(\n",
        "        text = language+input_text,\n",
        "        tokenizer = tokenizer,\n",
        "        seq_len = model_t.config.max_length\n",
        "        )\n",
        "    input_ids = input_ids.unsqueeze(0)\n",
        "    print(input_ids)\n",
        "    output_tokens = model_t.generate(input_ids,num_beams=10, num_return_sequences=1, length_penalty = 1, no_repeat_ngram_size=2)\n",
        "    \n",
        "    TRANS=tokenizer.decode(output_tokens[0], skip_special_tokens=True)\n",
        "    return TRANS\n",
        "\n",
        "@app.route('/')\n",
        "def home():\n",
        "    return render_template(\"home.html\")\n",
        "\n",
        "#@app.route('/', methods = ['POST'])\n",
        "#def load():\n",
        "    #return render_template(\"home2.html\")\n",
        "\n",
        "@app.route(\"/\", methods = [\"POST\",\"GET\"])\n",
        "def predict():\n",
        "# taking the input\n",
        "  text = request.form['text']\n",
        "# preprocessing the text\n",
        "  audio = get_audio(text)\n",
        "  language_dectection(audio)\n",
        "  summary = summarization(audio)\n",
        "  print(activate_translation)\n",
        "  print(summary)\n",
        "  if activate_translation:\n",
        "    translate = translation(summary[0]['summary_text'])\n",
        "  else:\n",
        "    translate = summary\n",
        "  print(translate)\n",
        "  return render_template(\"home.html\", pred=\" Summary: {}\".format(translate))\n",
        "\n",
        "if __name__ == '__main__':\n",
        "  app.run()"
      ]
    }
  ],
  "metadata": {
    "accelerator": "GPU",
    "colab": {
      "machine_shape": "hm",
      "provenance": []
    },
    "gpuClass": "premium",
    "kernelspec": {
      "display_name": "Python 3",
      "name": "python3"
    },
    "language_info": {
      "name": "python"
    }
  },
  "nbformat": 4,
  "nbformat_minor": 0
}
